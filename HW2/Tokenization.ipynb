{
 "cells": [
  {
   "cell_type": "code",
   "execution_count": 1,
   "id": "2a8ecbc2",
   "metadata": {},
   "outputs": [],
   "source": [
    "import os\n",
    "import json\n",
    "import pathlib\n",
    "import re\n",
    "from collections import defaultdict"
   ]
  },
  {
   "cell_type": "code",
   "execution_count": 2,
   "id": "01505c40",
   "metadata": {},
   "outputs": [],
   "source": [
    "DATA = str(pathlib.Path('./').resolve()) + '/data'\n",
    "punct = re.compile(\"[:.,l!?-]+\")\n",
    "\n",
    "paths = None\n",
    "papers = []"
   ]
  },
  {
   "cell_type": "code",
   "execution_count": 4,
   "id": "ebddb811",
   "metadata": {},
   "outputs": [],
   "source": [
    "for root, dirs, files in os.walk('./data'):\n",
    "    paths = [ os.path.join(DATA, flname) for flname in files ]\n",
    "\n",
    "for path in paths:\n",
    "    with open(path, 'r', encoding='utf-8') as fh:\n",
    "        papers.extend(json.load(fh))"
   ]
  },
  {
   "cell_type": "code",
   "execution_count": 5,
   "id": "57a16717",
   "metadata": {},
   "outputs": [
    {
     "name": "stdout",
     "output_type": "stream",
     "text": [
      "92 2164\n"
     ]
    }
   ],
   "source": [
    "abstracts = [paper[\"abstract\"] for paper in papers]\n",
    "lengs = list(set([len(abs1) for abs1 in abstracts]))\n",
    "sorted(lengs)\n",
    "print(lengs[0], lengs[-1])\n",
    "\n",
    "abstracts_tok = [  re.sub(punct, \"\", abs1.replace(\"\\n\", \" \")).lower().split(\" \") for abs1 in abstracts]\n",
    "\n",
    "cnt = defaultdict(int)\n",
    "\n",
    "for abs1 in abstracts_tok:\n",
    "    for tok in abs1:\n",
    "        cnt[tok] += 1"
   ]
  },
  {
   "cell_type": "code",
   "execution_count": 6,
   "id": "926d630f",
   "metadata": {},
   "outputs": [
    {
     "data": {
      "text/plain": [
       "{7: 55,\n",
       " 8: 61,\n",
       " 9: 71,\n",
       " 6: 63,\n",
       " 10: 68,\n",
       " 11: 77,\n",
       " 5: 52,\n",
       " 13: 67,\n",
       " 4: 96,\n",
       " 12: 76,\n",
       " 16: 95,\n",
       " 15: 51,\n",
       " 14: 79,\n",
       " 19: 66}"
      ]
     },
     "execution_count": 6,
     "metadata": {},
     "output_type": "execute_result"
    }
   ],
   "source": [
    "res = dict()\n",
    "for key, val in cnt.items():\n",
    "    if val < 100 and val > 50 and key.isalpha() and len(key) > 3:\n",
    "        res[len(key)] = val\n",
    "res"
   ]
  },
  {
   "cell_type": "code",
   "execution_count": 7,
   "id": "809d2487",
   "metadata": {},
   "outputs": [],
   "source": [
    "with open(\"forwiz.json\", \"w\") as fh:\n",
    "    fh.write(json.dumps(list(res.items())))"
   ]
  },
  {
   "cell_type": "code",
   "execution_count": null,
   "id": "1bec759d",
   "metadata": {},
   "outputs": [],
   "source": []
  }
 ],
 "metadata": {
  "kernelspec": {
   "display_name": "Python 3 (ipykernel)",
   "language": "python",
   "name": "python3"
  },
  "language_info": {
   "codemirror_mode": {
    "name": "ipython",
    "version": 3
   },
   "file_extension": ".py",
   "mimetype": "text/x-python",
   "name": "python",
   "nbconvert_exporter": "python",
   "pygments_lexer": "ipython3",
   "version": "3.9.7"
  }
 },
 "nbformat": 4,
 "nbformat_minor": 5
}
